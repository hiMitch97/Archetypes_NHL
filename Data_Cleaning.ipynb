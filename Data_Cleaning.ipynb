{
 "cells": [
  {
   "cell_type": "code",
   "execution_count": 1,
   "id": "916903f6",
   "metadata": {},
   "outputs": [],
   "source": [
    "import pandas as pd"
   ]
  },
  {
   "cell_type": "code",
   "execution_count": 2,
   "id": "c12531f8",
   "metadata": {},
   "outputs": [
    {
     "name": "stdout",
     "output_type": "stream",
     "text": [
      "['PSTR' 'FAC' 'HIT' 'STOP' 'SHOT' 'TAKE' 'BLOCK' 'MISS' 'GIVE' 'PEND'\n",
      " 'GOAL' 'PENL' 'GEND' 'DELPEN' 'CHL' 'SOC' 'EISTR' 'EIEND' 'EGPID']\n"
     ]
    }
   ],
   "source": [
    "df = pd.read_csv(r\"RAW/nhl_pbp_20212022.csv\")\n",
    "\n",
    "\n",
    "print(df.Event.unique())\n",
    "#Filter events to only include SHOT, TAKE, BLOCK, MISS, GIVEE"
   ]
  },
  {
   "cell_type": "code",
   "execution_count": null,
   "id": "e2b6b509",
   "metadata": {},
   "outputs": [],
   "source": []
  }
 ],
 "metadata": {
  "kernelspec": {
   "display_name": "Python 3 (ipykernel)",
   "language": "python",
   "name": "python3"
  },
  "language_info": {
   "codemirror_mode": {
    "name": "ipython",
    "version": 3
   },
   "file_extension": ".py",
   "mimetype": "text/x-python",
   "name": "python",
   "nbconvert_exporter": "python",
   "pygments_lexer": "ipython3",
   "version": "3.9.7"
  }
 },
 "nbformat": 4,
 "nbformat_minor": 5
}
